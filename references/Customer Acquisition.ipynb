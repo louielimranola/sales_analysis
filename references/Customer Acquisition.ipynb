{
 "cells": [
  {
   "cell_type": "markdown",
   "metadata": {},
   "source": [
    "Import Libraries"
   ]
  },
  {
   "cell_type": "code",
   "execution_count": 1,
   "metadata": {},
   "outputs": [],
   "source": [
    "import numpy as np\n",
    "import pandas as pd\n",
    "import matplotlib.pyplot as plt\n",
    "import seaborn as sns\n",
    "import scipy.stats as stats\n",
    "import datetime\n"
   ]
  },
  {
   "cell_type": "markdown",
   "metadata": {},
   "source": [
    "Load the datasets"
   ]
  },
  {
   "cell_type": "code",
   "execution_count": 2,
   "metadata": {},
   "outputs": [],
   "source": [
    "df_customers = pd.read_csv('/Users/eranola/Documents/projects/sales_analysis/data/raw/olist_customers_dataset.csv')\n",
    "df_geolocation = pd.read_csv('/Users/eranola/Documents/projects/sales_analysis/data/raw/olist_geolocation_dataset.csv')\n",
    "df_order_items = pd.read_csv('/Users/eranola/Documents/projects/sales_analysis/data/raw/olist_order_items_dataset.csv')\n",
    "df_order_payments = pd.read_csv('/Users/eranola/Documents/projects/sales_analysis/data/raw/olist_order_payments_dataset.csv')\n",
    "df_order_reviews = pd.read_csv('/Users/eranola/Documents/projects/sales_analysis/data/raw/olist_order_reviews_dataset.csv')\n",
    "df_orders = pd.read_csv('/Users/eranola/Documents/projects/sales_analysis/data/raw/olist_orders_dataset.csv')\n",
    "df_products = pd.read_csv('/Users/eranola/Documents/projects/sales_analysis/data/raw/olist_products_dataset.csv')\n",
    "df_sellers = pd.read_csv('/Users/eranola/Documents/projects/sales_analysis/data/raw/olist_sellers_dataset.csv')\n",
    "df_product_category_translation = pd.read_csv('/Users/eranola/Documents/projects/sales_analysis/data/raw/product_category_name_translation.csv')"
   ]
  },
  {
   "cell_type": "code",
   "execution_count": 4,
   "metadata": {},
   "outputs": [],
   "source": [
    "# Convert relevant columns in the df_orders dataset to datetime\n",
    "df_orders['order_purchase_timestamp'] = pd.to_datetime(df_orders['order_purchase_timestamp'])\n",
    "df_orders['order_approved_at'] = pd.to_datetime(df_orders['order_approved_at'])\n",
    "df_orders['order_delivered_carrier_date'] = pd.to_datetime(df_orders['order_delivered_carrier_date'])\n",
    "df_orders['order_delivered_customer_date'] = pd.to_datetime(df_orders['order_delivered_customer_date'])\n",
    "df_orders['order_estimated_delivery_date'] = pd.to_datetime(df_orders['order_estimated_delivery_date'])\n",
    "\n",
    "# Convert relevant columns in the df_order_reviews dataset to datetime\n",
    "df_order_reviews['review_creation_date'] = pd.to_datetime(df_order_reviews['review_creation_date'])\n",
    "df_order_reviews['review_answer_timestamp'] = pd.to_datetime(df_order_reviews['review_answer_timestamp'])\n",
    "\n",
    "# Convert relevant columns in the df_order_items dataset to datetime\n",
    "df_order_items['shipping_limit_date'] = pd.to_datetime(df_order_items['shipping_limit_date'])\n"
   ]
  },
  {
   "cell_type": "code",
   "execution_count": 5,
   "metadata": {},
   "outputs": [
    {
     "name": "stdout",
     "output_type": "stream",
     "text": [
      "Lifetime Value (LTV): 349.8429032585009\n"
     ]
    }
   ],
   "source": [
    "# Merge datasets\n",
    "order_details = pd.merge(df_order_items, df_order_payments, on='order_id')\n",
    "order_details = pd.merge(order_details, df_orders, on='order_id')\n",
    "\n",
    "# Calculate total revenue per order\n",
    "order_details['total_revenue'] = order_details['price'] + order_details['payment_value']\n",
    "\n",
    "# Calculate total revenue per customer\n",
    "customer_revenue = order_details.groupby('customer_id')['total_revenue'].sum()\n",
    "\n",
    "# Calculate average revenue per customer (LTV)\n",
    "ltv = customer_revenue.mean()\n",
    "\n",
    "print(f\"Lifetime Value (LTV): {ltv}\")"
   ]
  },
  {
   "cell_type": "code",
   "execution_count": 6,
   "metadata": {},
   "outputs": [],
   "source": [
    "# Convert the order purchase timestamp to datetime\n",
    "df_orders['order_purchase_timestamp'] = pd.to_datetime(df_orders['order_purchase_timestamp'])\n",
    "\n",
    "# Get the first purchase date per customer\n",
    "first_purchase_date = df_orders.groupby('customer_id')['order_purchase_timestamp'].min().reset_index()\n",
    "first_purchase_date.columns = ['customer_id', 'first_purchase_date']\n",
    "\n",
    "# Extract year and month from the first purchase date\n",
    "first_purchase_date['year_month'] = first_purchase_date['first_purchase_date'].dt.to_period('M')\n",
    "\n",
    "# Count new users per month\n",
    "new_users_monthly = first_purchase_date['year_month'].value_counts().sort_index()"
   ]
  },
  {
   "cell_type": "code",
   "execution_count": 7,
   "metadata": {},
   "outputs": [
    {
     "data": {
      "text/plain": [
       "year_month\n",
       "2016-09       4\n",
       "2016-10     324\n",
       "2016-12       1\n",
       "2017-01     800\n",
       "2017-02    1780\n",
       "2017-03    2682\n",
       "2017-04    2404\n",
       "2017-05    3700\n",
       "2017-06    3245\n",
       "2017-07    4026\n",
       "2017-08    4331\n",
       "2017-09    4285\n",
       "2017-10    4631\n",
       "2017-11    7544\n",
       "2017-12    5673\n",
       "2018-01    7269\n",
       "2018-02    6728\n",
       "2018-03    7211\n",
       "2018-04    6939\n",
       "2018-05    6873\n",
       "2018-06    6167\n",
       "2018-07    6292\n",
       "2018-08    6512\n",
       "2018-09      16\n",
       "2018-10       4\n",
       "Freq: M, Name: count, dtype: int64"
      ]
     },
     "execution_count": 7,
     "metadata": {},
     "output_type": "execute_result"
    }
   ],
   "source": [
    "new_users_monthly"
   ]
  },
  {
   "cell_type": "code",
   "execution_count": 9,
   "metadata": {},
   "outputs": [],
   "source": [
    "# Convert the order purchase timestamp to datetime\n",
    "df_orders['order_purchase_timestamp'] = pd.to_datetime(df_orders['order_purchase_timestamp'])\n",
    "\n",
    "# Extract year-month from the order purchase date\n",
    "df_orders['year_month'] = df_orders['order_purchase_timestamp'].dt.to_period('M')\n",
    "\n",
    "# Count unique users per month\n",
    "users_monthly = df_orders.groupby('year_month')['customer_id'].nunique()"
   ]
  },
  {
   "cell_type": "code",
   "execution_count": 10,
   "metadata": {},
   "outputs": [
    {
     "data": {
      "text/plain": [
       "year_month\n",
       "2016-09       4\n",
       "2016-10     324\n",
       "2016-12       1\n",
       "2017-01     800\n",
       "2017-02    1780\n",
       "2017-03    2682\n",
       "2017-04    2404\n",
       "2017-05    3700\n",
       "2017-06    3245\n",
       "2017-07    4026\n",
       "2017-08    4331\n",
       "2017-09    4285\n",
       "2017-10    4631\n",
       "2017-11    7544\n",
       "2017-12    5673\n",
       "2018-01    7269\n",
       "2018-02    6728\n",
       "2018-03    7211\n",
       "2018-04    6939\n",
       "2018-05    6873\n",
       "2018-06    6167\n",
       "2018-07    6292\n",
       "2018-08    6512\n",
       "2018-09      16\n",
       "2018-10       4\n",
       "Freq: M, Name: customer_id, dtype: int64"
      ]
     },
     "execution_count": 10,
     "metadata": {},
     "output_type": "execute_result"
    }
   ],
   "source": [
    "users_monthly"
   ]
  },
  {
   "cell_type": "code",
   "execution_count": null,
   "metadata": {},
   "outputs": [],
   "source": []
  }
 ],
 "metadata": {
  "kernelspec": {
   "display_name": "myenv",
   "language": "python",
   "name": "python3"
  },
  "language_info": {
   "codemirror_mode": {
    "name": "ipython",
    "version": 3
   },
   "file_extension": ".py",
   "mimetype": "text/x-python",
   "name": "python",
   "nbconvert_exporter": "python",
   "pygments_lexer": "ipython3",
   "version": "3.10.14"
  }
 },
 "nbformat": 4,
 "nbformat_minor": 2
}
